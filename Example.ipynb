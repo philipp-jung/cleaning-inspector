{
 "cells": [
  {
   "cell_type": "code",
   "execution_count": 4,
   "id": "967c36dc-3062-4a7f-ad59-b9eb28c227f1",
   "metadata": {},
   "outputs": [
    {
     "name": "stdout",
     "output_type": "stream",
     "text": [
      "The autoreload extension is already loaded. To reload it, use:\n",
      "  %reload_ext autoreload\n"
     ]
    }
   ],
   "source": [
    "%load_ext autoreload\n",
    "%autoreload 2"
   ]
  },
  {
   "cell_type": "code",
   "execution_count": 5,
   "id": "53785b4d-8478-4404-aa66-fef4be6250e3",
   "metadata": {},
   "outputs": [],
   "source": [
    "from main import Inspector\n",
    "import pandas as pd"
   ]
  },
  {
   "cell_type": "code",
   "execution_count": 6,
   "id": "4f10f5cc-5ce0-4fc4-beb1-9cab26227318",
   "metadata": {},
   "outputs": [],
   "source": [
    "df_clean = pd.read_csv('hospital_1k_clean.csv', header=None)\n",
    "df_dirty = pd.read_csv('hospital_1k_dirty.csv', header=None)\n",
    "df_treated = pd.read_csv('hospital_1k_treated.csv', header=None)\n",
    "\n",
    "se_clean = df_clean.iloc[:, 3]\n",
    "se_dirty = df_dirty.iloc[:, 3]\n",
    "se_treated = df_treated.iloc[:, 3]"
   ]
  },
  {
   "cell_type": "code",
   "execution_count": 7,
   "id": "92fcf78e-f434-421f-9bb9-018d04a5d3c2",
   "metadata": {},
   "outputs": [],
   "source": [
    "se_treated.iat[271] = 'BERLIN'\n",
    "se_treated.iat[274] = 'BERLIN'"
   ]
  },
  {
   "cell_type": "code",
   "execution_count": 8,
   "id": "1f2e082e-5652-4b90-a79e-0263e425c11a",
   "metadata": {},
   "outputs": [
    {
     "data": {
      "text/plain": [
       "270    ALABASTER\n",
       "271       BERLIN\n",
       "272    ALABASTER\n",
       "273    ALABASTER\n",
       "Name: 3, dtype: object"
      ]
     },
     "execution_count": 8,
     "metadata": {},
     "output_type": "execute_result"
    }
   ],
   "source": [
    "se_treated.loc[270:273]"
   ]
  },
  {
   "cell_type": "code",
   "execution_count": 9,
   "id": "85f6ea49-ba32-4b56-8216-58017ce881df",
   "metadata": {},
   "outputs": [],
   "source": [
    "ins = Inspector(se_clean, se_dirty, se_treated, assume_errors_known=True)"
   ]
  },
  {
   "cell_type": "code",
   "execution_count": 10,
   "id": "00d7df95-9608-42ec-87b0-de895c5e2160",
   "metadata": {},
   "outputs": [
    {
     "data": {
      "text/plain": [
       "271       BERLIN\n",
       "274       BERLIN\n",
       "275    ALABASTER\n",
       "276    ALABASTER\n",
       "278    ALABASTER\n",
       "279    ALABASTER\n",
       "280    ALABASTER\n",
       "281    ALABASTER\n",
       "282    ALABASTER\n",
       "283    ALABASTER\n",
       "284    ALABASTER\n",
       "285    ALABASTER\n",
       "287    ALABASTER\n",
       "289    ALABASTER\n",
       "290    ALABASTER\n",
       "291    ALABASTER\n",
       "292    ALABASTER\n",
       "293    ALABASTER\n",
       "836      CLANTON\n",
       "Name: 3, dtype: object"
      ]
     },
     "execution_count": 10,
     "metadata": {},
     "output_type": "execute_result"
    }
   ],
   "source": [
    "se_treated.loc[ins._error_positions]"
   ]
  },
  {
   "cell_type": "code",
   "execution_count": 11,
   "id": "b5235ef3-271b-40ad-9843-2cabfdcd011b",
   "metadata": {
    "tags": []
   },
   "outputs": [
    {
     "data": {
      "text/plain": [
       "19"
      ]
     },
     "execution_count": 11,
     "metadata": {},
     "output_type": "execute_result"
    }
   ],
   "source": [
    "sum(ins._error_positions)"
   ]
  },
  {
   "cell_type": "code",
   "execution_count": 12,
   "id": "affe4cd9-c28c-465d-a80d-062ba1f380ae",
   "metadata": {},
   "outputs": [
    {
     "name": "stdout",
     "output_type": "stream",
     "text": [
      "Calculating Cleaning Performance.\n",
      "Counted 17 TPs, 0 FPs, 2 FNs and 0 TNs.\n"
     ]
    },
    {
     "data": {
      "text/plain": [
       "0.9444444444444444"
      ]
     },
     "execution_count": 12,
     "metadata": {},
     "output_type": "execute_result"
    }
   ],
   "source": [
    "ins.error_cleaning_performance(se_clean, se_treated, se_dirty)"
   ]
  },
  {
   "cell_type": "code",
   "execution_count": null,
   "id": "240841b3-6b1b-455e-8efc-8b714c50c678",
   "metadata": {},
   "outputs": [
    {
     "data": {
      "text/html": [
       "\n",
       "            <hr>\n",
       "            <p>Evaluating error <b>1 / 2</b>.\n",
       "            Error in row 271:</p>\n",
       "            <h4>Clean Data</h4>\n",
       "            <style type=\"text/css\">\n",
       "#T_7935f_row3_col0, #T_7935f_row3_col1, #T_7935f_row3_col2, #T_7935f_row3_col3 {\n",
       "  background: lightgreen;\n",
       "}\n",
       "</style>\n",
       "<table id=\"T_7935f\">\n",
       "  <thead>\n",
       "    <tr>\n",
       "      <th class=\"blank level0\" >&nbsp;</th>\n",
       "      <th id=\"T_7935f_level0_col0\" class=\"col_heading level0 col0\" >2</th>\n",
       "      <th id=\"T_7935f_level0_col1\" class=\"col_heading level0 col1\" >3</th>\n",
       "      <th id=\"T_7935f_level0_col2\" class=\"col_heading level0 col2\" >4</th>\n",
       "      <th id=\"T_7935f_level0_col3\" class=\"col_heading level0 col3\" >5</th>\n",
       "    </tr>\n",
       "  </thead>\n",
       "  <tbody>\n",
       "    <tr>\n",
       "      <th id=\"T_7935f_level0_row0\" class=\"row_heading level0 row0\" >268</th>\n",
       "      <td id=\"T_7935f_row0_col0\" class=\"data row0 col0\" >33700 HIGHWAY 43</td>\n",
       "      <td id=\"T_7935f_row0_col1\" class=\"data row0 col1\" >THOMASVILLE</td>\n",
       "      <td id=\"T_7935f_row0_col2\" class=\"data row0 col2\" >AL</td>\n",
       "      <td id=\"T_7935f_row0_col3\" class=\"data row0 col3\" >36784</td>\n",
       "    </tr>\n",
       "    <tr>\n",
       "      <th id=\"T_7935f_level0_row1\" class=\"row_heading level0 row1\" >269</th>\n",
       "      <td id=\"T_7935f_row1_col0\" class=\"data row1 col0\" >1000 FIRST STREET NORTH</td>\n",
       "      <td id=\"T_7935f_row1_col1\" class=\"data row1 col1\" >ALABASTER</td>\n",
       "      <td id=\"T_7935f_row1_col2\" class=\"data row1 col2\" >AL</td>\n",
       "      <td id=\"T_7935f_row1_col3\" class=\"data row1 col3\" >35007</td>\n",
       "    </tr>\n",
       "    <tr>\n",
       "      <th id=\"T_7935f_level0_row2\" class=\"row_heading level0 row2\" >270</th>\n",
       "      <td id=\"T_7935f_row2_col0\" class=\"data row2 col0\" >1000 FIRST STREET NORTH</td>\n",
       "      <td id=\"T_7935f_row2_col1\" class=\"data row2 col1\" >ALABASTER</td>\n",
       "      <td id=\"T_7935f_row2_col2\" class=\"data row2 col2\" >AL</td>\n",
       "      <td id=\"T_7935f_row2_col3\" class=\"data row2 col3\" >35007</td>\n",
       "    </tr>\n",
       "    <tr>\n",
       "      <th id=\"T_7935f_level0_row3\" class=\"row_heading level0 row3\" >271</th>\n",
       "      <td id=\"T_7935f_row3_col0\" class=\"data row3 col0\" >1000 FIRST STREET NORTH</td>\n",
       "      <td id=\"T_7935f_row3_col1\" class=\"data row3 col1\" >ALABASTER</td>\n",
       "      <td id=\"T_7935f_row3_col2\" class=\"data row3 col2\" >AL</td>\n",
       "      <td id=\"T_7935f_row3_col3\" class=\"data row3 col3\" >35007</td>\n",
       "    </tr>\n",
       "    <tr>\n",
       "      <th id=\"T_7935f_level0_row4\" class=\"row_heading level0 row4\" >272</th>\n",
       "      <td id=\"T_7935f_row4_col0\" class=\"data row4 col0\" >1000 FIRST STREET NORTH</td>\n",
       "      <td id=\"T_7935f_row4_col1\" class=\"data row4 col1\" >ALABASTER</td>\n",
       "      <td id=\"T_7935f_row4_col2\" class=\"data row4 col2\" >AL</td>\n",
       "      <td id=\"T_7935f_row4_col3\" class=\"data row4 col3\" >35007</td>\n",
       "    </tr>\n",
       "    <tr>\n",
       "      <th id=\"T_7935f_level0_row5\" class=\"row_heading level0 row5\" >273</th>\n",
       "      <td id=\"T_7935f_row5_col0\" class=\"data row5 col0\" >1000 FIRST STREET NORTH</td>\n",
       "      <td id=\"T_7935f_row5_col1\" class=\"data row5 col1\" >ALABASTER</td>\n",
       "      <td id=\"T_7935f_row5_col2\" class=\"data row5 col2\" >AL</td>\n",
       "      <td id=\"T_7935f_row5_col3\" class=\"data row5 col3\" >35007</td>\n",
       "    </tr>\n",
       "  </tbody>\n",
       "</table>\n",
       "\n",
       "            <br>\n",
       "            <h4>Dirty Data</h4>\n",
       "            <style type=\"text/css\">\n",
       "#T_d6a4a_row3_col0, #T_d6a4a_row3_col1, #T_d6a4a_row3_col2, #T_d6a4a_row3_col3 {\n",
       "  background: lightgreen;\n",
       "}\n",
       "</style>\n",
       "<table id=\"T_d6a4a\">\n",
       "  <thead>\n",
       "    <tr>\n",
       "      <th class=\"blank level0\" >&nbsp;</th>\n",
       "      <th id=\"T_d6a4a_level0_col0\" class=\"col_heading level0 col0\" >2</th>\n",
       "      <th id=\"T_d6a4a_level0_col1\" class=\"col_heading level0 col1\" >3</th>\n",
       "      <th id=\"T_d6a4a_level0_col2\" class=\"col_heading level0 col2\" >4</th>\n",
       "      <th id=\"T_d6a4a_level0_col3\" class=\"col_heading level0 col3\" >5</th>\n",
       "    </tr>\n",
       "  </thead>\n",
       "  <tbody>\n",
       "    <tr>\n",
       "      <th id=\"T_d6a4a_level0_row0\" class=\"row_heading level0 row0\" >268</th>\n",
       "      <td id=\"T_d6a4a_row0_col0\" class=\"data row0 col0\" >33700 HIGHWAY 43</td>\n",
       "      <td id=\"T_d6a4a_row0_col1\" class=\"data row0 col1\" >THOMASVILLE</td>\n",
       "      <td id=\"T_d6a4a_row0_col2\" class=\"data row0 col2\" >AL</td>\n",
       "      <td id=\"T_d6a4a_row0_col3\" class=\"data row0 col3\" >36784.000000</td>\n",
       "    </tr>\n",
       "    <tr>\n",
       "      <th id=\"T_d6a4a_level0_row1\" class=\"row_heading level0 row1\" >269</th>\n",
       "      <td id=\"T_d6a4a_row1_col0\" class=\"data row1 col0\" >1000 FIRST STREET NORTH</td>\n",
       "      <td id=\"T_d6a4a_row1_col1\" class=\"data row1 col1\" >ALABASTER</td>\n",
       "      <td id=\"T_d6a4a_row1_col2\" class=\"data row1 col2\" >AL</td>\n",
       "      <td id=\"T_d6a4a_row1_col3\" class=\"data row1 col3\" >35007.000000</td>\n",
       "    </tr>\n",
       "    <tr>\n",
       "      <th id=\"T_d6a4a_level0_row2\" class=\"row_heading level0 row2\" >270</th>\n",
       "      <td id=\"T_d6a4a_row2_col0\" class=\"data row2 col0\" >1000 FIRST STREET NORTH</td>\n",
       "      <td id=\"T_d6a4a_row2_col1\" class=\"data row2 col1\" >ALABASTER</td>\n",
       "      <td id=\"T_d6a4a_row2_col2\" class=\"data row2 col2\" >AL</td>\n",
       "      <td id=\"T_d6a4a_row2_col3\" class=\"data row2 col3\" >35007.000000</td>\n",
       "    </tr>\n",
       "    <tr>\n",
       "      <th id=\"T_d6a4a_level0_row3\" class=\"row_heading level0 row3\" >271</th>\n",
       "      <td id=\"T_d6a4a_row3_col0\" class=\"data row3 col0\" >1000 FIRST STREET NORTH</td>\n",
       "      <td id=\"T_d6a4a_row3_col1\" class=\"data row3 col1\" >ALABATER</td>\n",
       "      <td id=\"T_d6a4a_row3_col2\" class=\"data row3 col2\" >AL</td>\n",
       "      <td id=\"T_d6a4a_row3_col3\" class=\"data row3 col3\" >35007.000000</td>\n",
       "    </tr>\n",
       "    <tr>\n",
       "      <th id=\"T_d6a4a_level0_row4\" class=\"row_heading level0 row4\" >272</th>\n",
       "      <td id=\"T_d6a4a_row4_col0\" class=\"data row4 col0\" >1000 FIRST STREET NORTH</td>\n",
       "      <td id=\"T_d6a4a_row4_col1\" class=\"data row4 col1\" >ALABASTER</td>\n",
       "      <td id=\"T_d6a4a_row4_col2\" class=\"data row4 col2\" >AL</td>\n",
       "      <td id=\"T_d6a4a_row4_col3\" class=\"data row4 col3\" >35007.000000</td>\n",
       "    </tr>\n",
       "    <tr>\n",
       "      <th id=\"T_d6a4a_level0_row5\" class=\"row_heading level0 row5\" >273</th>\n",
       "      <td id=\"T_d6a4a_row5_col0\" class=\"data row5 col0\" >1000 FIRST STREET NORTH</td>\n",
       "      <td id=\"T_d6a4a_row5_col1\" class=\"data row5 col1\" >ALABASTER</td>\n",
       "      <td id=\"T_d6a4a_row5_col2\" class=\"data row5 col2\" >L</td>\n",
       "      <td id=\"T_d6a4a_row5_col3\" class=\"data row5 col3\" >35007.000000</td>\n",
       "    </tr>\n",
       "  </tbody>\n",
       "</table>\n",
       "\n",
       "            <br>\n",
       "            <h4>Predicted Data</h4>\n",
       "            <style type=\"text/css\">\n",
       "#T_3f746_row3_col0, #T_3f746_row3_col1, #T_3f746_row3_col2, #T_3f746_row3_col3 {\n",
       "  background: lightgreen;\n",
       "}\n",
       "</style>\n",
       "<table id=\"T_3f746\">\n",
       "  <thead>\n",
       "    <tr>\n",
       "      <th class=\"blank level0\" >&nbsp;</th>\n",
       "      <th id=\"T_3f746_level0_col0\" class=\"col_heading level0 col0\" >2</th>\n",
       "      <th id=\"T_3f746_level0_col1\" class=\"col_heading level0 col1\" >3</th>\n",
       "      <th id=\"T_3f746_level0_col2\" class=\"col_heading level0 col2\" >4</th>\n",
       "      <th id=\"T_3f746_level0_col3\" class=\"col_heading level0 col3\" >5</th>\n",
       "    </tr>\n",
       "  </thead>\n",
       "  <tbody>\n",
       "    <tr>\n",
       "      <th id=\"T_3f746_level0_row0\" class=\"row_heading level0 row0\" >268</th>\n",
       "      <td id=\"T_3f746_row0_col0\" class=\"data row0 col0\" >33700 HIGHWAY 43</td>\n",
       "      <td id=\"T_3f746_row0_col1\" class=\"data row0 col1\" >THOMASVILLE</td>\n",
       "      <td id=\"T_3f746_row0_col2\" class=\"data row0 col2\" >AL</td>\n",
       "      <td id=\"T_3f746_row0_col3\" class=\"data row0 col3\" >36784</td>\n",
       "    </tr>\n",
       "    <tr>\n",
       "      <th id=\"T_3f746_level0_row1\" class=\"row_heading level0 row1\" >269</th>\n",
       "      <td id=\"T_3f746_row1_col0\" class=\"data row1 col0\" >1000 FIRST STREET NORTH</td>\n",
       "      <td id=\"T_3f746_row1_col1\" class=\"data row1 col1\" >ALABASTER</td>\n",
       "      <td id=\"T_3f746_row1_col2\" class=\"data row1 col2\" >AL</td>\n",
       "      <td id=\"T_3f746_row1_col3\" class=\"data row1 col3\" >35007</td>\n",
       "    </tr>\n",
       "    <tr>\n",
       "      <th id=\"T_3f746_level0_row2\" class=\"row_heading level0 row2\" >270</th>\n",
       "      <td id=\"T_3f746_row2_col0\" class=\"data row2 col0\" >1000 FIRST STREET NORTH</td>\n",
       "      <td id=\"T_3f746_row2_col1\" class=\"data row2 col1\" >ALABASTER</td>\n",
       "      <td id=\"T_3f746_row2_col2\" class=\"data row2 col2\" >AL</td>\n",
       "      <td id=\"T_3f746_row2_col3\" class=\"data row2 col3\" >35007</td>\n",
       "    </tr>\n",
       "    <tr>\n",
       "      <th id=\"T_3f746_level0_row3\" class=\"row_heading level0 row3\" >271</th>\n",
       "      <td id=\"T_3f746_row3_col0\" class=\"data row3 col0\" >1000 FIRST STREET NORTH</td>\n",
       "      <td id=\"T_3f746_row3_col1\" class=\"data row3 col1\" >BERLIN</td>\n",
       "      <td id=\"T_3f746_row3_col2\" class=\"data row3 col2\" >AL</td>\n",
       "      <td id=\"T_3f746_row3_col3\" class=\"data row3 col3\" >35007</td>\n",
       "    </tr>\n",
       "    <tr>\n",
       "      <th id=\"T_3f746_level0_row4\" class=\"row_heading level0 row4\" >272</th>\n",
       "      <td id=\"T_3f746_row4_col0\" class=\"data row4 col0\" >1000 FIRST STREET NORTH</td>\n",
       "      <td id=\"T_3f746_row4_col1\" class=\"data row4 col1\" >ALABASTER</td>\n",
       "      <td id=\"T_3f746_row4_col2\" class=\"data row4 col2\" >AL</td>\n",
       "      <td id=\"T_3f746_row4_col3\" class=\"data row4 col3\" >35007</td>\n",
       "    </tr>\n",
       "    <tr>\n",
       "      <th id=\"T_3f746_level0_row5\" class=\"row_heading level0 row5\" >273</th>\n",
       "      <td id=\"T_3f746_row5_col0\" class=\"data row5 col0\" >1000 FIRST STREET NORTH</td>\n",
       "      <td id=\"T_3f746_row5_col1\" class=\"data row5 col1\" >ALABASTER</td>\n",
       "      <td id=\"T_3f746_row5_col2\" class=\"data row5 col2\" >AL</td>\n",
       "      <td id=\"T_3f746_row5_col3\" class=\"data row5 col3\" >35007</td>\n",
       "    </tr>\n",
       "  </tbody>\n",
       "</table>\n",
       "\n",
       "            <hr>\n",
       "            "
      ],
      "text/plain": [
       "<IPython.core.display.HTML object>"
      ]
     },
     "metadata": {},
     "output_type": "display_data"
    }
   ],
   "source": [
    "ins.inspect_cleaning_results(df_clean, df_treated, df_dirty, slice(2,5))"
   ]
  },
  {
   "cell_type": "code",
   "execution_count": null,
   "id": "ad42e445-2b3f-4380-b99a-4b21297f8004",
   "metadata": {},
   "outputs": [],
   "source": []
  }
 ],
 "metadata": {
  "kernelspec": {
   "display_name": "Python 3 (ipykernel)",
   "language": "python",
   "name": "python3"
  },
  "language_info": {
   "codemirror_mode": {
    "name": "ipython",
    "version": 3
   },
   "file_extension": ".py",
   "mimetype": "text/x-python",
   "name": "python",
   "nbconvert_exporter": "python",
   "pygments_lexer": "ipython3",
   "version": "3.8.12"
  }
 },
 "nbformat": 4,
 "nbformat_minor": 5
}
