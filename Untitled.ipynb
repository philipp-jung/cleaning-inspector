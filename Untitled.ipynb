{
 "cells": [
  {
   "cell_type": "code",
   "execution_count": 1,
   "id": "967c36dc-3062-4a7f-ad59-b9eb28c227f1",
   "metadata": {},
   "outputs": [],
   "source": [
    "%load_ext autoreload\n",
    "%autoreload 2"
   ]
  },
  {
   "cell_type": "code",
   "execution_count": 2,
   "id": "53785b4d-8478-4404-aa66-fef4be6250e3",
   "metadata": {},
   "outputs": [],
   "source": [
    "from main import Inspector\n",
    "import pandas as pd"
   ]
  },
  {
   "cell_type": "code",
   "execution_count": 3,
   "id": "4f10f5cc-5ce0-4fc4-beb1-9cab26227318",
   "metadata": {},
   "outputs": [],
   "source": [
    "df_clean = pd.read_csv('hospital_1k_clean.csv', header=None)\n",
    "df_dirty = pd.read_csv('hospital_1k_dirty.csv', header=None)\n",
    "df_treated = pd.read_csv('hospital_1k_treated.csv', header=None)\n",
    "\n",
    "se_clean = df_clean.iloc[:, 3]\n",
    "se_dirty = df_dirty.iloc[:, 3]\n",
    "se_treated = df_treated.iloc[:, 3]"
   ]
  },
  {
   "cell_type": "code",
   "execution_count": 4,
   "id": "85f6ea49-ba32-4b56-8216-58017ce881df",
   "metadata": {},
   "outputs": [],
   "source": [
    "ins = Inspector(assume_errors_known=True)\n",
    "ins.calculate_error_positions(se_clean, se_dirty)"
   ]
  },
  {
   "cell_type": "code",
   "execution_count": 5,
   "id": "b5235ef3-271b-40ad-9843-2cabfdcd011b",
   "metadata": {},
   "outputs": [
    {
     "data": {
      "text/plain": [
       "19"
      ]
     },
     "execution_count": 5,
     "metadata": {},
     "output_type": "execute_result"
    }
   ],
   "source": [
    "sum(ins._error_positions)"
   ]
  },
  {
   "cell_type": "code",
   "execution_count": 6,
   "id": "00d7df95-9608-42ec-87b0-de895c5e2160",
   "metadata": {},
   "outputs": [
    {
     "data": {
      "text/plain": [
       "271    ALABASTER\n",
       "274    ALABASTER\n",
       "275    ALABASTER\n",
       "276    ALABASTER\n",
       "278    ALABASTER\n",
       "279    ALABASTER\n",
       "280    ALABASTER\n",
       "281    ALABASTER\n",
       "282    ALABASTER\n",
       "283    ALABASTER\n",
       "284    ALABASTER\n",
       "285    ALABASTER\n",
       "287    ALABASTER\n",
       "289    ALABASTER\n",
       "290    ALABASTER\n",
       "291    ALABASTER\n",
       "292    ALABASTER\n",
       "293    ALABASTER\n",
       "836      CLANTON\n",
       "Name: 3, dtype: object"
      ]
     },
     "execution_count": 6,
     "metadata": {},
     "output_type": "execute_result"
    }
   ],
   "source": [
    "se_treated.loc[ins._error_positions]"
   ]
  },
  {
   "cell_type": "code",
   "execution_count": 7,
   "id": "92fcf78e-f434-421f-9bb9-018d04a5d3c2",
   "metadata": {},
   "outputs": [],
   "source": [
    "se_treated.iat[271] = 'BERLIN'"
   ]
  },
  {
   "cell_type": "code",
   "execution_count": 8,
   "id": "1f2e082e-5652-4b90-a79e-0263e425c11a",
   "metadata": {},
   "outputs": [
    {
     "data": {
      "text/plain": [
       "270    ALABASTER\n",
       "271       BERLIN\n",
       "272    ALABASTER\n",
       "273    ALABASTER\n",
       "Name: 3, dtype: object"
      ]
     },
     "execution_count": 8,
     "metadata": {},
     "output_type": "execute_result"
    }
   ],
   "source": [
    "se_treated.loc[270:273]"
   ]
  },
  {
   "cell_type": "code",
   "execution_count": 9,
   "id": "affe4cd9-c28c-465d-a80d-062ba1f380ae",
   "metadata": {},
   "outputs": [
    {
     "name": "stdout",
     "output_type": "stream",
     "text": [
      "Calculating Cleaning Performance.\n",
      "Counted 18 TPs, 0 FPs, 1 FNs and 0 TNs.\n"
     ]
    },
    {
     "data": {
      "text/plain": [
       "0.972972972972973"
      ]
     },
     "execution_count": 9,
     "metadata": {},
     "output_type": "execute_result"
    }
   ],
   "source": [
    "ins.cleaning_performance(se_clean, se_treated, se_dirty)"
   ]
  },
  {
   "cell_type": "code",
   "execution_count": 10,
   "id": "24252f42-6e4e-473a-a6e4-757fc59c7db2",
   "metadata": {},
   "outputs": [
    {
     "data": {
      "text/html": [
       "<div>\n",
       "<style scoped>\n",
       "    .dataframe tbody tr th:only-of-type {\n",
       "        vertical-align: middle;\n",
       "    }\n",
       "\n",
       "    .dataframe tbody tr th {\n",
       "        vertical-align: top;\n",
       "    }\n",
       "\n",
       "    .dataframe thead th {\n",
       "        text-align: right;\n",
       "    }\n",
       "</style>\n",
       "<table border=\"1\" class=\"dataframe\">\n",
       "  <thead>\n",
       "    <tr style=\"text-align: right;\">\n",
       "      <th></th>\n",
       "      <th>3</th>\n",
       "      <th>4</th>\n",
       "      <th>5</th>\n",
       "    </tr>\n",
       "  </thead>\n",
       "  <tbody>\n",
       "    <tr>\n",
       "      <th>3</th>\n",
       "      <td>BIRMINGHAM</td>\n",
       "      <td>AL</td>\n",
       "      <td>35233</td>\n",
       "    </tr>\n",
       "    <tr>\n",
       "      <th>4</th>\n",
       "      <td>BIRMINGHAM</td>\n",
       "      <td>AL</td>\n",
       "      <td>35233</td>\n",
       "    </tr>\n",
       "  </tbody>\n",
       "</table>\n",
       "</div>"
      ],
      "text/plain": [
       "            3   4      5\n",
       "3  BIRMINGHAM  AL  35233\n",
       "4  BIRMINGHAM  AL  35233"
      ]
     },
     "execution_count": 10,
     "metadata": {},
     "output_type": "execute_result"
    }
   ],
   "source": [
    "df_treated.iloc[3:5, :].loc[:, 3:5]"
   ]
  },
  {
   "cell_type": "code",
   "execution_count": 11,
   "id": "8e0ad6be-0f98-4384-8da2-6f1e08b5cc7c",
   "metadata": {},
   "outputs": [],
   "source": [
    "ins.calculate_cleaning_error_positions(se_clean, se_treated)"
   ]
  },
  {
   "cell_type": "code",
   "execution_count": null,
   "id": "2445e99b-c31f-45e2-a1ff-f6f8561aaa2b",
   "metadata": {},
   "outputs": [],
   "source": [
    "df.index[df['BoolCol'] == True].tolist()"
   ]
  },
  {
   "cell_type": "code",
   "execution_count": 22,
   "id": "240841b3-6b1b-455e-8efc-8b714c50c678",
   "metadata": {},
   "outputs": [
    {
     "name": "stdout",
     "output_type": "stream",
     "text": [
      "Evaluating error 0 from 999\n",
      "Error in row 271:\n",
      "                           2            3   4        5\n",
      "268         33700 HIGHWAY 43  THOMASVILLE  AL  36784.0\n",
      "269  1000 FIRST STREET NORTH    ALABASTER  AL  35007.0\n",
      "270  1000 FIRST STREET NORTH    ALABASTER  AL  35007.0\n",
      "271  1000 FIRST STREET NORTH     ALABATER  AL  35007.0\n",
      "272  1000 FIRST STREET NORTH    ALABASTER  AL  35007.0\n",
      "273  1000 FIRST STREET NORTH    ALABASTER   L  35007.0\n",
      "Cleaning result in row 271:\n",
      "                           2            3   4      5\n",
      "268         33700 HIGHWAY 43  THOMASVILLE  AL  36784\n",
      "269  1000 FIRST STREET NORTH    ALABASTER  AL  35007\n",
      "270  1000 FIRST STREET NORTH    ALABASTER  AL  35007\n",
      "271  1000 FIRST STREET NORTH       BERLIN  AL  35007\n",
      "272  1000 FIRST STREET NORTH    ALABASTER  AL  35007\n",
      "273  1000 FIRST STREET NORTH    ALABASTER  AL  35007\n",
      "Groud truth in row 271:\n",
      "                           2            3   4      5\n",
      "268         33700 HIGHWAY 43  THOMASVILLE  AL  36784\n",
      "269  1000 FIRST STREET NORTH    ALABASTER  AL  35007\n",
      "270  1000 FIRST STREET NORTH    ALABASTER  AL  35007\n",
      "271  1000 FIRST STREET NORTH    ALABASTER  AL  35007\n",
      "272  1000 FIRST STREET NORTH    ALABASTER  AL  35007\n",
      "273  1000 FIRST STREET NORTH    ALABASTER  AL  35007\n"
     ]
    }
   ],
   "source": [
    "ins.inspect_cleaning_results(df_clean, df_treated, df_dirty, slice(2,5))"
   ]
  }
 ],
 "metadata": {
  "kernelspec": {
   "display_name": "Python 3 (ipykernel)",
   "language": "python",
   "name": "python3"
  },
  "language_info": {
   "codemirror_mode": {
    "name": "ipython",
    "version": 3
   },
   "file_extension": ".py",
   "mimetype": "text/x-python",
   "name": "python",
   "nbconvert_exporter": "python",
   "pygments_lexer": "ipython3",
   "version": "3.8.12"
  }
 },
 "nbformat": 4,
 "nbformat_minor": 5
}
